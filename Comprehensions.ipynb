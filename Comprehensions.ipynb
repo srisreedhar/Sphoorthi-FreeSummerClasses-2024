{
 "cells": [
  {
   "cell_type": "code",
   "execution_count": 1,
   "id": "f04e41e1-aefd-487c-93a0-7abad85f2d0c",
   "metadata": {},
   "outputs": [
    {
     "name": "stdout",
     "output_type": "stream",
     "text": [
      "Sphoorthi Oum\n"
     ]
    }
   ],
   "source": [
    "print(\"Sphoorthi Oum\")"
   ]
  },
  {
   "cell_type": "code",
   "execution_count": 2,
   "id": "32bc835c-f202-4790-8eea-b5b3a4821747",
   "metadata": {},
   "outputs": [
    {
     "data": {
      "text/plain": [
       "['sun', 'mon', 'tues', 'wednes', 'thurs', 'fri', 'sat']"
      ]
     },
     "execution_count": 2,
     "metadata": {},
     "output_type": "execute_result"
    }
   ],
   "source": [
    "weekdays = ['sun','mon','tues','wednes','thurs','fri','sat']\n",
    "weekdays"
   ]
  },
  {
   "cell_type": "code",
   "execution_count": 3,
   "id": "543c8d63-dab7-4eab-b9a4-ec43806d59d6",
   "metadata": {},
   "outputs": [],
   "source": [
    "weekdays_new=[]"
   ]
  },
  {
   "cell_type": "code",
   "execution_count": 6,
   "id": "4c3f7bd1-665b-44ec-94c4-d6f6866a1cd9",
   "metadata": {},
   "outputs": [],
   "source": [
    "for everyday in weekdays:\n",
    "    fullday=everyday+'day'\n",
    "    weekdays_new.append(fullday)"
   ]
  },
  {
   "cell_type": "code",
   "execution_count": 7,
   "id": "abbe981f-f2ce-463f-b840-56a4a4ed9495",
   "metadata": {},
   "outputs": [
    {
     "data": {
      "text/plain": [
       "['sunday', 'monday', 'tuesday', 'wednesday', 'thursday', 'friday', 'satday']"
      ]
     },
     "execution_count": 7,
     "metadata": {},
     "output_type": "execute_result"
    }
   ],
   "source": [
    "weekdays_new"
   ]
  },
  {
   "cell_type": "code",
   "execution_count": 15,
   "id": "9c31bc92-ee81-41cf-92f2-c15079c338ac",
   "metadata": {},
   "outputs": [],
   "source": [
    "#[everyday+'day' for everyday in weekdays]"
   ]
  },
  {
   "cell_type": "code",
   "execution_count": 9,
   "id": "9e0f0c56-d81c-4e8f-b286-38c088406e82",
   "metadata": {},
   "outputs": [],
   "source": [
    "wdys = [everyday+'day' for everyday in weekdays]"
   ]
  },
  {
   "cell_type": "code",
   "execution_count": 10,
   "id": "5eab5ea8-b410-48c6-bcad-13409ccff3a4",
   "metadata": {},
   "outputs": [
    {
     "data": {
      "text/plain": [
       "['sunday', 'monday', 'tuesday', 'wednesday', 'thursday', 'friday', 'satday']"
      ]
     },
     "execution_count": 10,
     "metadata": {},
     "output_type": "execute_result"
    }
   ],
   "source": [
    "wdys"
   ]
  },
  {
   "cell_type": "code",
   "execution_count": 11,
   "id": "a54e311d-dc30-439f-ac35-c655fe1ee493",
   "metadata": {},
   "outputs": [],
   "source": [
    "# List Comprehensions"
   ]
  },
  {
   "cell_type": "raw",
   "id": "17d9bb48-be91-4e0a-9f17-0e03326909b2",
   "metadata": {},
   "source": [
    "[code_on_Variable for Variable in Collection]\n",
    "Apply all the code on everyvalue"
   ]
  },
  {
   "cell_type": "raw",
   "id": "79a2b1da-9b93-43a5-9896-c4f5288dab2f",
   "metadata": {},
   "source": [
    "[everyday+'day' for everyday in weekdays]\n",
    "everyday+'day'  -> apply all code here"
   ]
  },
  {
   "cell_type": "code",
   "execution_count": 12,
   "id": "c97eec6a-8f49-461c-b9be-9da2b09fd1bf",
   "metadata": {},
   "outputs": [
    {
     "data": {
      "text/plain": [
       "['SUN', 'MON', 'TUES', 'WEDNES', 'THURS', 'FRI', 'SAT']"
      ]
     },
     "execution_count": 12,
     "metadata": {},
     "output_type": "execute_result"
    }
   ],
   "source": [
    "[everyday.upper() for everyday in weekdays]"
   ]
  },
  {
   "cell_type": "code",
   "execution_count": 13,
   "id": "46f92dc7-86df-4b5f-9116-16b2a3b839f0",
   "metadata": {},
   "outputs": [
    {
     "data": {
      "text/plain": [
       "[3, 3, 4, 6, 5, 3, 3]"
      ]
     },
     "execution_count": 13,
     "metadata": {},
     "output_type": "execute_result"
    }
   ],
   "source": [
    "[len(everyday) for everyday in weekdays]"
   ]
  },
  {
   "cell_type": "code",
   "execution_count": 16,
   "id": "3bde9230-3699-4dcf-974e-2bd778b8a7da",
   "metadata": {},
   "outputs": [
    {
     "name": "stdout",
     "output_type": "stream",
     "text": [
      "100\n"
     ]
    }
   ],
   "source": [
    "words=['romeo', 'and', 'juliet', 'green', 'room', 'sdition', 'romeo', 'and', 'juliet', 'by', 'william', 'shakespeare', 'illustrated', 'by', 'photographs', 'from', 'life', 'of', 'maude', 'adams,', 'sarony,', 'and', 'also', 'by', 'illtistrations', 'by', 'andriolli', '^', '«^', 'h.', 'm.', 'caldwell', 'company', 'l-', '38524', '\"two', 'copifs', 'recfived', 'aug', '20', '1900', 'copyright', 'entry', 'second', 'copy', 'delivered', 'to', 'orolr', 'division,', 'sep', '6', '1900', 'copyright,', 'i88y', 'by', 'samuel', 'e.', 'cassino', 'copyright,', 'igoo', 'by', 'h.', 'm.', 'caldwell', 'co', '74121', 'romeo', 'and', 'juliet', 'facsimile', 'of', 'the', 'original', 'programme', 'the', 'cast', 'miss', 'maude', 'adams,', 'in', 'a', 'special', 'production', 'of', \"shakespeare's\", 'tragedy', 'of', '\"', 'romeo', 'and', 'juliet,\"', 'with', 'william', 'faversham', 'as', 'romeo,', 'and', 'james', 'k.', 'hackett']\n",
    "print(len(words))"
   ]
  },
  {
   "cell_type": "code",
   "execution_count": 22,
   "id": "8dfbd099-a8cf-443b-b184-0f3c7a018aa8",
   "metadata": {},
   "outputs": [],
   "source": [
    "# extract all the 2 lettered words and append them to a list\n",
    "# extract all the 3 lettered words and append them to a list\n",
    "# extartc all the 4 lettered words and append them to a list\n",
    "# if not 2/3/4 then add all to a seperate list\n",
    "\n",
    "# create a list with unique values"
   ]
  },
  {
   "cell_type": "code",
   "execution_count": 18,
   "id": "b269b449-1815-463c-b544-1e05bae51b3d",
   "metadata": {},
   "outputs": [],
   "source": [
    "wrd_2=[]\n",
    "wrd_3=[]\n",
    "wrd_4=[]\n",
    "wrd_all=[]"
   ]
  },
  {
   "cell_type": "code",
   "execution_count": 19,
   "id": "450def0b-5840-4523-9c8b-6ef6a4c6246e",
   "metadata": {},
   "outputs": [],
   "source": [
    "for everyword in words:\n",
    "    if len(everyword) == 2:\n",
    "        wrd_2.append(everyword)\n",
    "    elif len(everyword) == 3:\n",
    "        wrd_3.append(everyword)\n",
    "    elif len(everyword) == 4:\n",
    "        wrd_4.append(everyword)\n",
    "    else:\n",
    "        wrd_all.append(everyword)\n",
    "        "
   ]
  },
  {
   "cell_type": "code",
   "execution_count": 21,
   "id": "88f527e1-8d55-443d-ae91-ec29355f6788",
   "metadata": {
    "scrolled": true
   },
   "outputs": [
    {
     "name": "stdout",
     "output_type": "stream",
     "text": [
      "['by', 'by', 'of', 'by', 'by', '«^', 'h.', 'm.', 'l-', '20', 'to', 'by', 'e.', 'by', 'h.', 'm.', 'co', 'of', 'in', 'of', 'of', 'as', 'k.']\n"
     ]
    }
   ],
   "source": [
    "print(wrd_2)"
   ]
  },
  {
   "cell_type": "code",
   "execution_count": 23,
   "id": "dceaec4b-4d23-44d1-b6a6-692ef63a2c86",
   "metadata": {},
   "outputs": [
    {
     "name": "stdout",
     "output_type": "stream",
     "text": [
      "['and', 'and', 'and', 'aug', 'sep', 'and', 'the', 'the', 'and', 'and']\n"
     ]
    }
   ],
   "source": [
    "print(wrd_3)"
   ]
  },
  {
   "cell_type": "code",
   "execution_count": 24,
   "id": "967b71a2-a904-45c7-bea3-cd27e987c5d7",
   "metadata": {},
   "outputs": [
    {
     "name": "stdout",
     "output_type": "stream",
     "text": [
      "['room', 'from', 'life', 'also', '\"two', '1900', 'copy', '1900', 'i88y', 'igoo', 'cast', 'miss', 'with']\n"
     ]
    }
   ],
   "source": [
    "print(wrd_4)"
   ]
  },
  {
   "cell_type": "code",
   "execution_count": 36,
   "id": "0a6cc00d-b301-40f7-97df-f9db20daf33e",
   "metadata": {},
   "outputs": [
    {
     "name": "stdout",
     "output_type": "stream",
     "text": [
      "['romeo', 'juliet', 'green', 'sdition', 'romeo', 'juliet', 'william', 'shakespeare', 'illustrated', 'photographs', 'maude', 'adams,', 'sarony,', 'illtistrations', 'andriolli', '^', 'caldwell', 'company', '38524', 'copifs', 'recfived', 'copyright', 'entry', 'second', 'delivered', 'orolr', 'division,', '6', 'copyright,', 'samuel', 'cassino', 'copyright,', 'caldwell', '74121', 'romeo', 'juliet', 'facsimile', 'original', 'programme', 'maude', 'adams,', 'a', 'special', 'production', \"shakespeare's\", 'tragedy', '\"', 'romeo', 'juliet,\"', 'william', 'faversham', 'romeo,', 'james', 'hackett'] 54\n"
     ]
    }
   ],
   "source": [
    "print(wrd_all,len(wrd_all))"
   ]
  },
  {
   "cell_type": "code",
   "execution_count": 35,
   "id": "16c4d0c5-fea6-4036-bf53-a0db818953d0",
   "metadata": {},
   "outputs": [
    {
     "data": {
      "text/plain": [
       "44"
      ]
     },
     "execution_count": 35,
     "metadata": {},
     "output_type": "execute_result"
    }
   ],
   "source": [
    "len(set(wrd_all))"
   ]
  },
  {
   "cell_type": "code",
   "execution_count": 33,
   "id": "7cf56f95-6100-4e59-ac50-60db27f9ba81",
   "metadata": {
    "scrolled": true
   },
   "outputs": [
    {
     "data": {
      "text/plain": [
       "['by', '«^', 'co', 'in', 'k.', 'h.', '20', 'as', 'to', 'e.', 'm.', 'l-', 'of']"
      ]
     },
     "execution_count": 33,
     "metadata": {},
     "output_type": "execute_result"
    }
   ],
   "source": [
    "list(set(wrd_2))"
   ]
  },
  {
   "cell_type": "code",
   "execution_count": 28,
   "id": "44718ead-6f8a-4969-ba23-46a76d02c224",
   "metadata": {},
   "outputs": [
    {
     "name": "stdout",
     "output_type": "stream",
     "text": [
      "['by', 'by', 'of', 'by', 'by', '«^', 'h.', 'm.', 'l-', '20', 'to', 'by', 'e.', 'by', 'h.', 'm.', 'co', 'of', 'in', 'of', 'of', 'as', 'k.']\n"
     ]
    }
   ],
   "source": [
    "two2={everyword for everyword in words if len(everyword) == 2}\n",
    "print(two2)"
   ]
  },
  {
   "cell_type": "code",
   "execution_count": 29,
   "id": "5645ea95-85db-4e87-81ee-c68501c88d92",
   "metadata": {},
   "outputs": [],
   "source": [
    "three = [everyword for everyword in words if len(everyword) == 3]\n",
    "four = [everyword for everyword in words if len(everyword) == 4]"
   ]
  },
  {
   "cell_type": "code",
   "execution_count": 30,
   "id": "53666cb1-20d6-447b-8cc2-3d1680b1a785",
   "metadata": {},
   "outputs": [
    {
     "data": {
      "text/plain": [
       "['and', 'and', 'and', 'aug', 'sep', 'and', 'the', 'the', 'and', 'and']"
      ]
     },
     "execution_count": 30,
     "metadata": {},
     "output_type": "execute_result"
    }
   ],
   "source": [
    "three"
   ]
  },
  {
   "cell_type": "raw",
   "id": "c7561f24-e3b5-4364-b26c-df953095a66f",
   "metadata": {},
   "source": [
    "[everyvalue for everyvalue in Collection if condition_on_everyvalue]\n",
    "Apply all the code on everyvalue"
   ]
  },
  {
   "cell_type": "code",
   "execution_count": null,
   "id": "bde247d3-8dad-4e50-9385-7f82dde2bda7",
   "metadata": {},
   "outputs": [],
   "source": []
  }
 ],
 "metadata": {
  "kernelspec": {
   "display_name": "Python 3 (ipykernel)",
   "language": "python",
   "name": "python3"
  },
  "language_info": {
   "codemirror_mode": {
    "name": "ipython",
    "version": 3
   },
   "file_extension": ".py",
   "mimetype": "text/x-python",
   "name": "python",
   "nbconvert_exporter": "python",
   "pygments_lexer": "ipython3",
   "version": "3.11.7"
  }
 },
 "nbformat": 4,
 "nbformat_minor": 5
}
