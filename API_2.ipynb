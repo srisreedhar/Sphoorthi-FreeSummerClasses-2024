{
 "cells": [
  {
   "cell_type": "code",
   "execution_count": 1,
   "id": "a79c7af5-f581-445b-b1dc-a2a082c9cabd",
   "metadata": {},
   "outputs": [],
   "source": [
    "import os\n",
    "import requests"
   ]
  },
  {
   "cell_type": "code",
   "execution_count": 2,
   "id": "84555ceb-68d3-4b0a-8761-78a88a4b99b6",
   "metadata": {},
   "outputs": [],
   "source": [
    "url = \"https://api.postalpincode.in/pincode/\""
   ]
  },
  {
   "cell_type": "code",
   "execution_count": 3,
   "id": "4097cb5e-cfe1-43aa-8eb7-94ab14c33edc",
   "metadata": {},
   "outputs": [],
   "source": [
    "def getPlaceName(pincode):\n",
    "    url = \"https://api.postalpincode.in/pincode/\" + str(pincode)\n",
    "    resp=requests.get(url)\n",
    "    data = resp.json()\n",
    "    pin = {}\n",
    "    pin['pincode'] = str(pincode)\n",
    "    pin['areaname'] = data[0].get('PostOffice')[0].get('Name')\n",
    "    return pin"
   ]
  },
  {
   "cell_type": "code",
   "execution_count": 4,
   "id": "3e8a0107-1a97-4270-a638-9d16d31dd9c0",
   "metadata": {},
   "outputs": [
    {
     "data": {
      "text/plain": [
       "{'pincode': '500032', 'areaname': 'Gachibowli'}"
      ]
     },
     "execution_count": 4,
     "metadata": {},
     "output_type": "execute_result"
    }
   ],
   "source": [
    "getPlaceName(500032)"
   ]
  },
  {
   "cell_type": "code",
   "execution_count": 5,
   "id": "5fa8c018-452a-43b6-a03d-e7142e5b7f8f",
   "metadata": {},
   "outputs": [],
   "source": [
    "# a function should always return a single data type if there are multiple return values/types"
   ]
  },
  {
   "cell_type": "code",
   "execution_count": 6,
   "id": "302626b1-bf4c-496f-b0ac-c5b95d491495",
   "metadata": {},
   "outputs": [],
   "source": [
    "url = \"https://api.postalpincode.in/pincode/500001\""
   ]
  },
  {
   "cell_type": "code",
   "execution_count": 7,
   "id": "ee31973a-6f58-49ee-ba4f-67d53e9d7612",
   "metadata": {},
   "outputs": [],
   "source": [
    "resp=requests.get(url)"
   ]
  },
  {
   "cell_type": "code",
   "execution_count": 8,
   "id": "fe5f5bf8-036c-4f8e-ada4-30af17c5ec37",
   "metadata": {},
   "outputs": [],
   "source": [
    "data=resp.json()"
   ]
  },
  {
   "cell_type": "code",
   "execution_count": 19,
   "id": "abcc1150-c3ce-427b-9592-9f1aba8b01a3",
   "metadata": {},
   "outputs": [
    {
     "data": {
      "text/plain": [
       "'5'"
      ]
     },
     "execution_count": 19,
     "metadata": {},
     "output_type": "execute_result"
    }
   ],
   "source": [
    "data[0].get('Message').split(\":\")[1]"
   ]
  },
  {
   "cell_type": "code",
   "execution_count": 14,
   "id": "cf20edaa-d112-43fa-a655-b5e0daa0467f",
   "metadata": {},
   "outputs": [
    {
     "data": {
      "text/plain": [
       "[{'Name': 'Gandhi Bhawan (Hyderabad)',\n",
       "  'Description': None,\n",
       "  'BranchType': 'Sub Post Office',\n",
       "  'DeliveryStatus': 'Non-Delivery',\n",
       "  'Circle': 'Andhra Pradesh',\n",
       "  'District': 'Hyderabad',\n",
       "  'Division': 'Hyderabad City',\n",
       "  'Region': 'Hyderabad City',\n",
       "  'Block': 'Nampally',\n",
       "  'State': 'Telangana',\n",
       "  'Country': 'India',\n",
       "  'Pincode': '500001'},\n",
       " {'Name': 'Hyderabad ',\n",
       "  'Description': None,\n",
       "  'BranchType': 'Head Post Office',\n",
       "  'DeliveryStatus': 'Delivery',\n",
       "  'Circle': 'Andhra Pradesh',\n",
       "  'District': 'Hyderabad',\n",
       "  'Division': 'Hyderabad GPO',\n",
       "  'Region': 'Hyderabad City',\n",
       "  'Block': 'Hyderabad',\n",
       "  'State': 'Telangana',\n",
       "  'Country': 'India',\n",
       "  'Pincode': '500001'},\n",
       " {'Name': 'Moazzampura',\n",
       "  'Description': None,\n",
       "  'BranchType': 'Sub Post Office',\n",
       "  'DeliveryStatus': 'Non-Delivery',\n",
       "  'Circle': 'Andhra Pradesh',\n",
       "  'District': 'Hyderabad',\n",
       "  'Division': 'Hyderabad City',\n",
       "  'Region': 'Hyderabad City',\n",
       "  'Block': 'Nampally',\n",
       "  'State': 'Telangana',\n",
       "  'Country': 'India',\n",
       "  'Pincode': '500001'},\n",
       " {'Name': 'Seetharampet',\n",
       "  'Description': None,\n",
       "  'BranchType': 'Sub Post Office',\n",
       "  'DeliveryStatus': 'Non-Delivery',\n",
       "  'Circle': 'Andhra Pradesh',\n",
       "  'District': 'Hyderabad',\n",
       "  'Division': 'Hyderabad City',\n",
       "  'Region': 'Hyderabad City',\n",
       "  'Block': 'Nampally',\n",
       "  'State': 'Telangana',\n",
       "  'Country': 'India',\n",
       "  'Pincode': '500001'},\n",
       " {'Name': 'State Bank Of Hyderabad',\n",
       "  'Description': None,\n",
       "  'BranchType': 'Sub Post Office',\n",
       "  'DeliveryStatus': 'Non-Delivery',\n",
       "  'Circle': 'Andhra Pradesh',\n",
       "  'District': 'Hyderabad',\n",
       "  'Division': 'Hyderabad City',\n",
       "  'Region': 'Hyderabad City',\n",
       "  'Block': 'Nampally',\n",
       "  'State': 'Telangana',\n",
       "  'Country': 'India',\n",
       "  'Pincode': '500001'}]"
      ]
     },
     "execution_count": 14,
     "metadata": {},
     "output_type": "execute_result"
    }
   ],
   "source": [
    "data[0].get('PostOffice')"
   ]
  },
  {
   "cell_type": "code",
   "execution_count": 23,
   "id": "21840514-22c1-498c-bd5a-caa24e607466",
   "metadata": {},
   "outputs": [
    {
     "name": "stdout",
     "output_type": "stream",
     "text": [
      "Gandhi Bhawan (Hyderabad)\n",
      "Hyderabad \n",
      "Moazzampura\n",
      "Seetharampet\n",
      "State Bank Of Hyderabad\n"
     ]
    }
   ],
   "source": [
    "for eachentry in data[0].get('PostOffice'):\n",
    "    print(eachentry.get('Name'))"
   ]
  },
  {
   "cell_type": "code",
   "execution_count": 20,
   "id": "05a36f9e-c346-4c17-83a7-8fd65810dc77",
   "metadata": {},
   "outputs": [
    {
     "data": {
      "text/plain": [
       "5"
      ]
     },
     "execution_count": 20,
     "metadata": {},
     "output_type": "execute_result"
    }
   ],
   "source": [
    "len(data[0].get('PostOffice'))"
   ]
  },
  {
   "cell_type": "code",
   "execution_count": 24,
   "id": "14deb332-43af-43e3-abc0-b6de42300791",
   "metadata": {},
   "outputs": [],
   "source": [
    "def getPlaceName(pincode):\n",
    "    url = \"https://api.postalpincode.in/pincode/\" + str(pincode)\n",
    "    resp=requests.get(url)\n",
    "    data = resp.json()\n",
    "    pin = {}\n",
    "    if len(data[0].get('PostOffice')) == 1 :\n",
    "        pin['pincode'] = str(pincode)\n",
    "        pin['areaname'] = data[0].get('PostOffice')[0].get('Name')\n",
    "        return pin\n",
    "    else:\n",
    "        pin['pincode'] = str(pincode)\n",
    "        pin['areanames']=[]\n",
    "        for everyentry in data[0].get('PostOffice'):\n",
    "            pin['areanames'].append(everyentry.get('Name'))\n",
    "        return pin\n",
    "            \n",
    "        "
   ]
  },
  {
   "cell_type": "code",
   "execution_count": 25,
   "id": "362d948e-cd51-47bf-825b-963d1441f0cb",
   "metadata": {},
   "outputs": [
    {
     "data": {
      "text/plain": [
       "{'pincode': '500032', 'areanames': ['Gachibowli', 'Manuu']}"
      ]
     },
     "execution_count": 25,
     "metadata": {},
     "output_type": "execute_result"
    }
   ],
   "source": [
    "getPlaceName(500032)"
   ]
  },
  {
   "cell_type": "code",
   "execution_count": 26,
   "id": "31bc369d-f806-488e-a2e5-e64687b3ee82",
   "metadata": {},
   "outputs": [
    {
     "data": {
      "text/plain": [
       "{'pincode': '500001',\n",
       " 'areanames': ['Gandhi Bhawan (Hyderabad)',\n",
       "  'Hyderabad ',\n",
       "  'Moazzampura',\n",
       "  'Seetharampet',\n",
       "  'State Bank Of Hyderabad']}"
      ]
     },
     "execution_count": 26,
     "metadata": {},
     "output_type": "execute_result"
    }
   ],
   "source": [
    "getPlaceName(500001)"
   ]
  },
  {
   "cell_type": "code",
   "execution_count": 27,
   "id": "21ca3094-0e63-4dac-a622-15a9ca399e4e",
   "metadata": {},
   "outputs": [
    {
     "data": {
      "text/plain": [
       "{'pincode': '500045', 'areanames': ['A.Gs. Staff Quarters', 'Yousufguda']}"
      ]
     },
     "execution_count": 27,
     "metadata": {},
     "output_type": "execute_result"
    }
   ],
   "source": [
    "getPlaceName(500045)"
   ]
  },
  {
   "cell_type": "code",
   "execution_count": null,
   "id": "6c7ff0ed-c5ee-4684-b1c8-d834d6fb29c1",
   "metadata": {},
   "outputs": [],
   "source": []
  }
 ],
 "metadata": {
  "kernelspec": {
   "display_name": "Python 3 (ipykernel)",
   "language": "python",
   "name": "python3"
  },
  "language_info": {
   "codemirror_mode": {
    "name": "ipython",
    "version": 3
   },
   "file_extension": ".py",
   "mimetype": "text/x-python",
   "name": "python",
   "nbconvert_exporter": "python",
   "pygments_lexer": "ipython3",
   "version": "3.11.7"
  }
 },
 "nbformat": 4,
 "nbformat_minor": 5
}
